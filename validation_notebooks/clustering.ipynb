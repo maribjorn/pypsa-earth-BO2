{
 "cells": [
  {
   "cell_type": "code",
   "execution_count": 2,
   "metadata": {},
   "outputs": [],
   "source": [
    "import numpy as np\n",
    "import matplotlib.pyplot as plt\n",
    "import pandas as pd\n",
    "import pypsa\n",
    "import matplotlib.patches as mpatches\n",
    "\n",
    "red1 = '#891D2D'\n",
    "red2 = '#BA3B31'\n",
    "orange = '#F58221'\n",
    "yellow = '#FCAF19'\n",
    "brown = '#440A15'\n",
    "purple1 = '#3B1053'\n",
    "purple2 = '#76518E'\n",
    "purple3 = '#B69DC7'\n",
    "teal1 = '#032838'\n",
    "teal2 = '#154655'\n",
    "teal3 = '#527D77'\n",
    "teal4 = '#8DB5AF'\n",
    "green1 = '#294839'\n",
    "green2 = '#6E966E'\n",
    "green3 = '#A3BDA3'\n",
    "beige1 = '#927F48'\n",
    "beige2 = '#A89677'\n",
    "beige3 = '#D2CDAD'\n",
    "\n",
    "from matplotlib.colors import ListedColormap\n",
    "\n",
    "\n",
    "\n",
    "\n",
    "plt.rcParams['font.size'] = 18\n",
    "zones = ['Northern', 'Oriental', 'Central', 'Southern']\n",
    "zone_colors=[teal1,teal4,teal2,teal3]\n",
    "\n",
    "# Define your custom colormap\n",
    "cmap_zones = ListedColormap(zone_colors)"
   ]
  },
  {
   "cell_type": "code",
   "execution_count": 5,
   "metadata": {},
   "outputs": [],
   "source": [
    "# change current directory to parent folder\n",
    "import os\n",
    "import sys\n",
    "\n",
    "if not os.path.isdir(\"pypsa-earth\"):\n",
    "    os.chdir(\"../../..\")\n",
    "sys.path.append(os.getcwd()+\"/pypsa-earth/scripts\")\n",
    "\n",
    "from _helpers import three_2_two_digits_country"
   ]
  },
  {
   "cell_type": "code",
   "execution_count": 8,
   "metadata": {},
   "outputs": [
    {
     "name": "stderr",
     "output_type": "stream",
     "text": [
      "c:\\Users\\marih\\anaconda3\\envs\\pypsa-earth-test\\lib\\site-packages\\pypsa\\components.py:318: FutureWarning: Setting an item of incompatible dtype is deprecated and will raise in a future error of pandas. Value '[]' has dtype incompatible with float64, please explicitly cast to a compatible dtype first.\n",
      "  attrs.loc[bool_b, \"default\"] = attrs.loc[bool_b].isin({True, \"True\"})\n",
      "c:\\Users\\marih\\anaconda3\\envs\\pypsa-earth-test\\lib\\site-packages\\pypsa\\components.py:318: FutureWarning: Setting an item of incompatible dtype is deprecated and will raise in a future error of pandas. Value '[]' has dtype incompatible with float64, please explicitly cast to a compatible dtype first.\n",
      "  attrs.loc[bool_b, \"default\"] = attrs.loc[bool_b].isin({True, \"True\"})\n",
      "c:\\Users\\marih\\anaconda3\\envs\\pypsa-earth-test\\lib\\site-packages\\pypsa\\components.py:318: FutureWarning: Setting an item of incompatible dtype is deprecated and will raise in a future error of pandas. Value '[]' has dtype incompatible with float64, please explicitly cast to a compatible dtype first.\n",
      "  attrs.loc[bool_b, \"default\"] = attrs.loc[bool_b].isin({True, \"True\"})\n",
      "c:\\Users\\marih\\anaconda3\\envs\\pypsa-earth-test\\lib\\site-packages\\pypsa\\components.py:318: FutureWarning: Setting an item of incompatible dtype is deprecated and will raise in a future error of pandas. Value '[]' has dtype incompatible with float64, please explicitly cast to a compatible dtype first.\n",
      "  attrs.loc[bool_b, \"default\"] = attrs.loc[bool_b].isin({True, \"True\"})\n",
      "INFO:pypsa.io:Imported network elec_s_4_ec_lcopt_Co2L-1H.nc has buses, carriers, generators, global_constraints, lines, links, loads, stores\n"
     ]
    },
    {
     "data": {
      "text/plain": [
       "(<matplotlib.collections.PatchCollection at 0x2226980ef80>,\n",
       " <matplotlib.collections.LineCollection at 0x2226aa9c040>,\n",
       " <matplotlib.collections.LineCollection at 0x2226aa9c7c0>)"
      ]
     },
     "execution_count": 8,
     "metadata": {},
     "output_type": "execute_result"
    },
    {
     "name": "stderr",
     "output_type": "stream",
     "text": [
      "c:\\Users\\marih\\anaconda3\\envs\\pypsa-earth-test\\lib\\site-packages\\cartopy\\mpl\\style.py:76: UserWarning: facecolor will have no effect as it has been defined as \"never\".\n",
      "  warnings.warn('facecolor will have no effect as it has been '\n"
     ]
    },
    {
     "data": {
      "image/png": "[encoded data removed]",
      "text/plain": [
       "<Figure size 640x480 with 1 Axes>"
      ]
     },
     "metadata": {},
     "output_type": "display_data"
    }
   ],
   "source": [
    "Xenia_network_path = \"test4/pypsa-earth/saved_networks/Xenia_copy/elec_s_4_ec_lcopt_Co2L-1H.nc\"\n",
    "n = pypsa.Network(Xenia_network_path)\n",
    "n.plot()"
   ]
  }
 ],
 "metadata": {
  "kernelspec": {
   "display_name": "pypsa-earth-test",
   "language": "python",
   "name": "python3"
  },
  "language_info": {
   "codemirror_mode": {
    "name": "ipython",
    "version": 3
   },
   "file_extension": ".py",
   "mimetype": "text/x-python",
   "name": "python",
   "nbconvert_exporter": "python",
   "pygments_lexer": "ipython3",
   "version": "3.10.12"
  }
 },
 "nbformat": 4,
 "nbformat_minor": 2
}
